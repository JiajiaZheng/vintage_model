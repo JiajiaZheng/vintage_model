{
 "cells": [
  {
   "cell_type": "markdown",
   "metadata": {},
   "source": [
    "### Individual Models for the Vintage Models\n",
    "Here are the vintage model running for TiO2, SiO2 and FeOx"
   ]
  },
  {
   "cell_type": "markdown",
   "metadata": {},
   "source": [
    "### Import Packages and Helper Functions"
   ]
  },
  {
   "cell_type": "code",
   "execution_count": null,
   "metadata": {
    "collapsed": false
   },
   "outputs": [],
   "source": [
    "import sys\n",
    "sys.path.append('./packages')\n",
    "\n",
    "import vintage_model as vt\n",
    "import numpy as np\n",
    "import csv\n",
    "import matplotlib.pylab as plt\n",
    "from matplotlib import style\n",
    "style.use('ggplot')\n",
    "\n",
    "def csv_to_dict(csv_file):\n",
    "    with open(csv_file,'rU') as myfile:\n",
    "        this_reader = csv.reader(myfile)\n",
    "        # skip the first row\n",
    "        next(this_reader, None)\n",
    "        ''' row[0] is the sector name; row[1] percentage; row[2] average_lifetime; row[3] is the in use release rate '''\n",
    "        market_dict = {rows[0]:[rows[1],rows[2],rows[3],rows[4],rows[5],rows[6]] for rows in this_reader}\n",
    "    return market_dict\n",
    "\n",
    "# test\n",
    "market_data_dict = csv_to_dict('./data/coating_market_fake.csv')\n",
    "print market_data_dict"
   ]
  },
  {
   "cell_type": "markdown",
   "metadata": {},
   "source": [
    "### Calculate the Default Release for TiO2\n",
    "\n",
    "market share of TiO2: 30%\n",
    "other parameters are specified in the file: ./data/coating_market_fake.csv\n"
   ]
  },
  {
   "cell_type": "code",
   "execution_count": null,
   "metadata": {
    "collapsed": true
   },
   "outputs": [],
   "source": [
    "TiO2_data = np.loadtxt('./data/TiO2_production_real.csv',delimiter=',')\n",
    "TiO2_to_paints = 0.3 # what portion of SiO2 are used in coating, paints and pigment market\n",
    "TiO2_data[:,1] = TiO2_data[:,1] * TiO2_to_paints\n",
    "\n",
    "market_data_dict = csv_to_dict('./data/coating_market_fake.csv')\n",
    "\n",
    "# set up the model\n",
    "TiO2_market = vintage_model.vintage_market(TiO2_data,market_data_dict)\n",
    "\n",
    "# save the results to data frame and plot the market figure\n",
    "df = TiO2_market.to_dataframe(test)\n",
    "TiO2_market.plot_market_vintage()\n",
    "\n"
   ]
  }
 ],
 "metadata": {
  "kernelspec": {
   "display_name": "Python [Root]",
   "language": "python",
   "name": "Python [Root]"
  },
  "language_info": {
   "codemirror_mode": {
    "name": "ipython",
    "version": 2
   },
   "file_extension": ".py",
   "mimetype": "text/x-python",
   "name": "python",
   "nbconvert_exporter": "python",
   "pygments_lexer": "ipython2",
   "version": "2.7.12"
  }
 },
 "nbformat": 4,
 "nbformat_minor": 0
}
