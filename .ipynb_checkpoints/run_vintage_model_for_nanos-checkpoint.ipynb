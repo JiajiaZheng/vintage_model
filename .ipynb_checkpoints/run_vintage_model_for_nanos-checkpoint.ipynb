{
 "cells": [
  {
   "cell_type": "markdown",
   "metadata": {},
   "source": [
    "### Individual Models for the Vintage Models\n",
    "Here are the vintage model running for TiO2, SiO2 and FeOx"
   ]
  },
  {
   "cell_type": "markdown",
   "metadata": {},
   "source": [
    "### Import Packages and Helper Functions"
   ]
  },
  {
   "cell_type": "code",
   "execution_count": 1,
   "metadata": {
    "collapsed": false
   },
   "outputs": [
    {
     "name": "stdout",
     "output_type": "stream",
     "text": [
      "{'Household & Furniture': ['0.14', '10', '0.5', '2', '5', '2'], 'Automotive': ['0.06', '13', '0.5', '2', '5', '4'], 'Medical': ['0.13', '15', '0.5', '0', '6', '5'], 'Other Industries': ['0.1', '20', '0.5', '2', '5', '5'], 'Packaging': ['0.06', '2', '0.5', '0', '2', '1'], 'Electronics': ['0.06', '5', '0.5', '0', '2', '2'], 'Construction & Building': ['0.45', '60', '0.5', '5', '10', '40']}\n"
     ]
    }
   ],
   "source": [
    "import sys\n",
    "sys.path.append('./packages')\n",
    "\n",
    "import vintage_model as vt\n",
    "import numpy as np\n",
    "import csv\n",
    "import matplotlib.pylab as plt\n",
    "from matplotlib import style\n",
    "style.use('ggplot')\n",
    "\n",
    "def csv_to_dict(csv_file):\n",
    "    with open(csv_file,'rU') as myfile:\n",
    "        this_reader = csv.reader(myfile)\n",
    "        # skip the first row\n",
    "        next(this_reader, None)\n",
    "        ''' row[0] is the sector name; row[1] percentage; row[2] average_lifetime; row[3] is the in use release rate '''\n",
    "        market_dict = {rows[0]:[rows[1],rows[2],rows[3],rows[4],rows[5],rows[6]] for rows in this_reader}\n",
    "    return market_dict\n",
    "\n",
    "# test\n",
    "market_data_dict = csv_to_dict('./data/coating_market_fake.csv')\n",
    "print market_data_dict"
   ]
  },
  {
   "cell_type": "markdown",
   "metadata": {},
   "source": [
    "### Calculate the Default Release for TiO2\n",
    "\n",
    "market share of TiO2: 30%\n",
    "other parameters are specified in the file: ./data/coating_market_fake.csv\n"
   ]
  },
  {
   "cell_type": "code",
   "execution_count": 2,
   "metadata": {
    "collapsed": false
   },
   "outputs": [
    {
     "name": "stderr",
     "output_type": "stream",
     "text": [
      "./packages\\vintage_model.py:215: VisibleDeprecationWarning: using a non-integer number instead of an integer will result in an error in the future\n",
      "  year_stock[number_of_year] = init_stock # initialization\n",
      "./packages\\vintage_model.py:216: VisibleDeprecationWarning: using a non-integer number instead of an integer will result in an error in the future\n",
      "  year_in_use[number_of_year] = in_use_during_app # the first in use release happened at the first year\n"
     ]
    }
   ],
   "source": [
    "TiO2_data = np.loadtxt('./data/TiO2_production_real.csv',delimiter=',')\n",
    "TiO2_to_paints = 0.3 # what portion of SiO2 are used in coating, paints and pigment market\n",
    "TiO2_data[:,1] = TiO2_data[:,1] * TiO2_to_paints\n",
    "\n",
    "market_data_dict = csv_to_dict('./data/coating_market_fake.csv')\n",
    "\n",
    "# set up the model\n",
    "TiO2_market = vt.vintage_market(TiO2_data,market_data_dict)\n",
    "test = TiO2_market.calculate_market_vintage()\n",
    "# save the results to data frame and plot the market figure\n",
    "df = TiO2_market.to_dataframe(test)\n",
    "TiO2_market.plot_market_vintage()\n",
    "\n",
    "# df.to_csv('./results/TiO2_vintage_results.csv')\n"
   ]
  },
  {
   "cell_type": "markdown",
   "metadata": {},
   "source": [
    "### Calculate the Default Release for SiO2\n",
    "\n",
    "market share of SiO2: 10%\n",
    "other parameters are specified in the file: ./data/coating_market_fake.csv"
   ]
  },
  {
   "cell_type": "code",
   "execution_count": 3,
   "metadata": {
    "collapsed": false
   },
   "outputs": [],
   "source": [
    "# read data now\n",
    "SiO2_data = np.loadtxt('./data/SiO2_production_real.csv',delimiter=',')\n",
    "SiO2_to_paints = 0.1 # what portion of SiO2 are used in coating, paints and pigment market\n",
    "SiO2_data[:,1] = SiO2_data[:,1] * SiO2_to_paints\n",
    "market_data_dict = csv_to_dict('./data/coating_market_fake.csv')\n",
    "\n",
    "SiO2_market = vt.vintage_market(SiO2_data,market_data_dict)\n",
    "test = SiO2_market.calculate_market_vintage()\n",
    "df = SiO2_market.to_dataframe(test)\n",
    "SiO2_market.plot_market_vintage()\n",
    "df.to_csv('./results/SiO2_vintage_results.csv')"
   ]
  },
  {
   "cell_type": "markdown",
   "metadata": {},
   "source": [
    "### Calculate the Default Release for FeOx\n",
    "\n",
    "market share of SiO2: 33%\n",
    "other parameters are specified in the file: ./data/coating_market_fake.csv"
   ]
  },
  {
   "cell_type": "code",
   "execution_count": 4,
   "metadata": {
    "collapsed": true
   },
   "outputs": [],
   "source": [
    " # read data now\n",
    "Fe_data = np.loadtxt('./data/Fe_production_real.csv',delimiter=',')\n",
    "Fe_to_paints = 0.33 # what portion of SiO2 are used in coating, paints and pigment market\n",
    "Fe_data[:,1] = Fe_data[:,1] * Fe_to_paints\n",
    "market_data_dict = csv_to_dict('./data/coating_market_fake.csv')\n",
    "\n",
    "FeO2_market = vt.vintage_market(Fe_data,market_data_dict)\n",
    "test = FeO2_market.calculate_market_vintage()\n",
    "df = FeO2_market.to_dataframe(test)\n",
    "FeO2_market.plot_market_vintage()\n",
    "df.to_csv('./results/Fe_vintage_results.csv')"
   ]
  },
  {
   "cell_type": "code",
   "execution_count": null,
   "metadata": {
    "collapsed": true
   },
   "outputs": [],
   "source": []
  }
 ],
 "metadata": {
  "anaconda-cloud": {},
  "kernelspec": {
   "display_name": "Python [Root]",
   "language": "python",
   "name": "Python [Root]"
  },
  "language_info": {
   "codemirror_mode": {
    "name": "ipython",
    "version": 2
   },
   "file_extension": ".py",
   "mimetype": "text/x-python",
   "name": "python",
   "nbconvert_exporter": "python",
   "pygments_lexer": "ipython2",
   "version": "2.7.12"
  }
 },
 "nbformat": 4,
 "nbformat_minor": 0
}
